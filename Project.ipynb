{
  "nbformat": 4,
  "nbformat_minor": 0,
  "metadata": {
    "colab": {
      "provenance": [],
      "include_colab_link": true
    },
    "kernelspec": {
      "name": "python3",
      "display_name": "Python 3"
    },
    "language_info": {
      "name": "python"
    }
  },
  "cells": [
    {
      "cell_type": "markdown",
      "metadata": {
        "id": "view-in-github",
        "colab_type": "text"
      },
      "source": [
        "<a href=\"https://colab.research.google.com/github/matteraggi/FineTuningAI/blob/main/Project.ipynb\" target=\"_parent\"><img src=\"https://colab.research.google.com/assets/colab-badge.svg\" alt=\"Open In Colab\"/></a>"
      ]
    },
    {
      "cell_type": "code",
      "execution_count": null,
      "metadata": {
        "id": "Zk0aSc1Fj4fe"
      },
      "outputs": [],
      "source": [
        "#ciao\n",
        "#matteraggi"
      ]
    },
    {
      "cell_type": "code",
      "source": [
        "from datasets import load_dataset\n",
        "from transformers import AutoTokenizer, AutoModelForCausalLM, Trainer, TrainingArguments\n",
        "from peft import LoraConfig, PeftModel"
      ],
      "metadata": {
        "id": "8UVh7Bll2gIp"
      },
      "execution_count": null,
      "outputs": []
    },
    {
      "cell_type": "code",
      "source": [
        "# Modello di partenza per NLP (es. GPT-2, LLaMA-2, StarCoder)\n",
        "model_name = \"bigcode/starcoder2\"\n",
        "tokenizer = AutoTokenizer.from_pretrained(model_name)\n",
        "tokenizer.pad_token = tokenizer.eos_token"
      ],
      "metadata": {
        "id": "R4jamItV2gvq"
      },
      "execution_count": null,
      "outputs": []
    },
    {
      "cell_type": "code",
      "source": [
        "# Caricamento dataset per il fine-tuning (es. stack-exchange, code datasets)\n",
        "ds = load_dataset(\"bigcode/self-oss-instruct-sc2-exec-filter-50k\", split=\"train[:1%]\")\n",
        "train_test_split = ds.train_test_split(test_size=0.1)\n",
        "train_dataset = train_test_split[\"train\"]\n",
        "eval_dataset = train_test_split[\"test\"]"
      ],
      "metadata": {
        "id": "oglVXvuh2jd4"
      },
      "execution_count": null,
      "outputs": []
    },
    {
      "cell_type": "code",
      "source": [
        "# Preprocessamento dataset\n",
        "def preprocess_function(examples):\n",
        "    tokenized = tokenizer(examples[\"response\"], truncation=True, padding=\"max_length\", max_length=128)\n",
        "    return {\"input_ids\": tokenized[\"input_ids\"], \"attention_mask\": tokenized[\"attention_mask\"]}\n",
        "\n",
        "train_dataset = train_dataset.map(preprocess_function, batched=True)\n",
        "eval_dataset = eval_dataset.map(preprocess_function, batched=True)"
      ],
      "metadata": {
        "id": "euDUs2wU2mDb"
      },
      "execution_count": null,
      "outputs": []
    },
    {
      "cell_type": "code",
      "source": [
        "# Configurazione Lora (opzionale, per ridurre memoria)\n",
        "lora_config = LoraConfig(r=64, lora_alpha=16, lora_dropout=0.1)\n",
        "model = AutoModelForCausalLM.from_pretrained(model_name)\n",
        "model = PeftModel(model, lora_config)"
      ],
      "metadata": {
        "id": "0euY0sER2nsE"
      },
      "execution_count": null,
      "outputs": []
    },
    {
      "cell_type": "code",
      "source": [
        "# Configurazione dell'addestramento\n",
        "training_args = TrainingArguments(\n",
        "    output_dir=\"./results\",\n",
        "    evaluation_strategy=\"epoch\",\n",
        "    learning_rate=2e-5,\n",
        "    num_train_epochs=3,\n",
        "    per_device_train_batch_size=8,\n",
        "    remove_unused_columns=False,\n",
        ")"
      ],
      "metadata": {
        "id": "YNMf6alk2o-e"
      },
      "execution_count": null,
      "outputs": []
    },
    {
      "cell_type": "code",
      "source": [
        "# Trainer\n",
        "trainer = Trainer(\n",
        "    model=model,\n",
        "    args=training_args,\n",
        "    train_dataset=train_dataset,\n",
        "    eval_dataset=eval_dataset,\n",
        ")"
      ],
      "metadata": {
        "id": "PtwZKmWd2qRK"
      },
      "execution_count": null,
      "outputs": []
    },
    {
      "cell_type": "code",
      "source": [
        "# Avvio del fine-tuning\n",
        "trainer.train()"
      ],
      "metadata": {
        "id": "ImK-hy0I2rV2"
      },
      "execution_count": null,
      "outputs": []
    }
  ]
}